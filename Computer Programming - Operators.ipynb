{
 "cells": [
  {
   "cell_type": "markdown",
   "metadata": {},
   "source": [
    "An operator in a programming language is a symbol that tells the compiler or interpreter to perform specific mathematical, relational or logical operation and produce final result."
   ]
  },
  {
   "cell_type": "markdown",
   "metadata": {},
   "source": [
    "## Arithmetic Operators"
   ]
  },
  {
   "cell_type": "markdown",
   "metadata": {},
   "source": [
    "2 + 3\n",
    "\n",
    "P(x) = x^4 + 7x^3 - 5x + 9.\n",
    "\n",
    "These two statements are called arithmetic expressions in a programming language and **plus, minus** used in these expressions are called arithmetic operators and the values used in these expressions like 2, 3 and x, etc., are called operands. In their simplest form, such expressions produce numerical results."
   ]
  },
  {
   "cell_type": "markdown",
   "metadata": {},
   "source": [
    "Similarly, a programming language provides various arithmetic operators. The following table lists down a few of the important arithmetic operators available in C programming language."
   ]
  },
  {
   "cell_type": "markdown",
   "metadata": {},
   "source": [
    "| Operator |                 Description                 |\n",
    "|:--------:|:-------------------------------------------:|\n",
    "|     +    |              Adds two operands              |\n",
    "|     -    |   Subtracts second operand from the first   |\n",
    "|     *    |           Multiplies both operands          |\n",
    "|     /    |      Divides numerator by de-numerator      |\n",
    "|     %    | This gives remainder of an integer division |"
   ]
  },
  {
   "cell_type": "markdown",
   "metadata": {},
   "source": [
    "Following is a simple example of C Programming to understand the above mathematical operators −\n",
    "\n",
    "[CODE](https://ide.geeksforgeeks.org/IPbRYHAj54)"
   ]
  },
  {
   "cell_type": "markdown",
   "metadata": {},
   "source": [
    "## Relational Operators\n",
    "(A > B)\n",
    "\n",
    "Here, we used a symbol > and it is called a relational operator and in their simplest form, they produce Boolean results which means the result will be either true or false. Similarly, a programming language provides various relational operators. The following table lists down a few of the important relational operators available in C programming language."
   ]
  },
  {
   "cell_type": "markdown",
   "metadata": {},
   "source": [
    "| Operator |                                                           Description                                                           |\n",
    "|:--------:|:-------------------------------------------------------------------------------------------------------------------------------:|\n",
    "|    ==    |                    Checks if the values of two operands are equal or not, if yes then condition becomes true.                   |\n",
    "|    !=    |           Checks if the values of two operands are equal or not, if values are not equal then condition becomes true.           |\n",
    "|     >    |       Checks if the value of left operand is greater than the value of right operand, if yes then condition becomes true.       |\n",
    "|     <    |         Checks if the value of left operand is less than the value of right operand, if yes then condition becomes true.        |\n",
    "|    >=    | Checks if the value of left operand is greater than or equal to the value of right operand, if yes then condition becomes true. |\n",
    "|    <=    |   Checks if the value of left operand is less than or equal to the value of right operand, if yes then condition becomes true.  |"
   ]
  },
  {
   "cell_type": "markdown",
   "metadata": {},
   "source": [
    "Example of C Programming which makes use of **if conditional statement.** we use if statement to check a condition and if the condition is true, then the body of if statement is executed, otherwise the body of if statement is skipped.\n",
    "\n",
    "[CODE](https://ide.geeksforgeeks.org/GdCh0MRb9M)"
   ]
  },
  {
   "cell_type": "markdown",
   "metadata": {},
   "source": [
    "## Logical Operators\n",
    "Logical operators are very important in any programming language and they help us take decisions based on certain conditions."
   ]
  },
  {
   "cell_type": "markdown",
   "metadata": {},
   "source": [
    "The following table shows all the logical operators supported by the C language.\n",
    "\n",
    "| Operator |                                                                    Description                                                                   |\n",
    "|:--------:|:------------------------------------------------------------------------------------------------------------------------------------------------:|\n",
    "|    &&    |                           Called Logical AND operator. If both the operands are non-zero, then condition becomes true.                           |\n",
    "|   \\|\\|   |                         Called Logical OR Operator. If any of the two operands is non-zero, then condition becomes true.                         |\n",
    "|     !    | Called Logical NOT Operator. Use to reverses the logical state of its operand. If a condition is true then Logical NOT operator will make false. |\n",
    "\n",
    "[CODE](https://ide.geeksforgeeks.org/pHcLzLh9TK)"
   ]
  },
  {
   "cell_type": "markdown",
   "metadata": {},
   "source": [
    "## Operators in Java\n",
    "Following is the equivalent program written in Java. C programming and Java provide almost identical set of operators and conditional statements. This program will create two variables a and b, very similar to C programming, then we assign 10 and 20 in these variables and finally, we will use different arithmetic and relational operators −"
   ]
  }
 ],
 "metadata": {
  "kernelspec": {
   "display_name": "Python 3",
   "language": "python",
   "name": "python3"
  },
  "language_info": {
   "codemirror_mode": {
    "name": "ipython",
    "version": 3
   },
   "file_extension": ".py",
   "mimetype": "text/x-python",
   "name": "python",
   "nbconvert_exporter": "python",
   "pygments_lexer": "ipython3",
   "version": "3.8.5"
  }
 },
 "nbformat": 4,
 "nbformat_minor": 4
}
