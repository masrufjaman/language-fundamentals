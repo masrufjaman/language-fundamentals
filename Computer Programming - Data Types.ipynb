{
 "cells": [
  {
   "cell_type": "markdown",
   "metadata": {},
   "source": [
    "A very simple but very important concept available in almost all the programming languages which is called data types. It can be numeric, alphanumeric, decimal, etc."
   ]
  },
  {
   "cell_type": "markdown",
   "metadata": {},
   "source": [
    "When we write a computer program to process different types of data, we need to specify its type clearly; otherwise the computer does not understand how different operations can be performed on that given data. Different programming languages use different keywords to specify different data types."
   ]
  },
  {
   "cell_type": "markdown",
   "metadata": {},
   "source": [
    "## C and Java Data Types\n",
    "C and Java support almost the same set of data types, though Java supports additional data types. For now, we are taking a few common data types supported by both the programming languages −"
   ]
  },
  {
   "cell_type": "markdown",
   "metadata": {},
   "source": [
    "| Type           | Keyword | Value range which can be represented by this data type |\n",
    "|----------------|---------|--------------------------------------------------------|\n",
    "| Character      | char    |               -128 to 127 or 0 to 255                  |\n",
    "| Number         | int     |  -32,768 to 32,767 or -2,147,483,648 to 2,147,483,647  |\n",
    "| Small Number   | short   |                  -32,768 to 32,767                     |\n",
    "| Long Number    | long    |           -2,147,483,648 to 2,147,483,647              |\n",
    "| Decimal Number | float   |       1.2E-38 to 3.4E+38 till 6 decimal places         |"
   ]
  },
  {
   "cell_type": "markdown",
   "metadata": {},
   "source": [
    "These data types are called primitive data types and we can use these data types to build more complex data types, which are called user-defined data type, for example a string will be a sequence of characters."
   ]
  },
  {
   "cell_type": "markdown",
   "metadata": {},
   "source": [
    "## Python Data Types\n",
    "Python has five standard data types but this programming language does not make use of any keyword to specify a particular data type, rather Python is intelligent enough to understand a given data type automatically.\n",
    "\n",
    "- Numbers\n",
    "- String\n",
    "- List\n",
    "- Tuple\n",
    "- Dictionary\n",
    "\n",
    "Here, Number specifies all types of numbers including decimal numbers and string represents a sequence of characters with a length of 1 or more characters."
   ]
  }
 ],
 "metadata": {
  "kernelspec": {
   "display_name": "Python 3",
   "language": "python",
   "name": "python3"
  },
  "language_info": {
   "codemirror_mode": {
    "name": "ipython",
    "version": 3
   },
   "file_extension": ".py",
   "mimetype": "text/x-python",
   "name": "python",
   "nbconvert_exporter": "python",
   "pygments_lexer": "ipython3",
   "version": "3.8.5"
  }
 },
 "nbformat": 4,
 "nbformat_minor": 4
}
