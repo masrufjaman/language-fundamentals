{
 "cells": [
  {
   "cell_type": "markdown",
   "metadata": {},
   "source": [
    "## Hello World Program in C"
   ]
  },
  {
   "cell_type": "markdown",
   "metadata": {},
   "source": [
    "[CODE](https://onlinegdb.com/HyofVFAxO)"
   ]
  },
  {
   "cell_type": "markdown",
   "metadata": {},
   "source": [
    "### Program Entry Point\n",
    "Every C program starts with `main()`, which is called the **main** function, and then it is followed by a left curly brace. The rest of the program instruction is written in between and finally a right curly brace ends the program.\n",
    "\n",
    "The coding part inside these two curly braces is called the **program body**. The left curly brace can be in the same line as main(){ or in the next line like it has been mentioned in the above program."
   ]
  },
  {
   "cell_type": "markdown",
   "metadata": {},
   "source": [
    "### Functions\n",
    "Functions are small units of programs and they are used to carry out a specific task. For example, the above program makes use of two functions: `main()` and `printf()`. Here, the function `main()` provides the entry point for the program execution and the other function `printf()` is being used to print an information on the computer screen.\n",
    "\n",
    "We can also write our own **functions**, but C programming itself provides various built-in functions like `main()`, `printf()`, etc., which we can use in our programs based on our requirement."
   ]
  },
  {
   "cell_type": "markdown",
   "metadata": {},
   "source": [
    "### Comments\n",
    "A C program can have statements enclosed inside /*.....*/. Such statements are called comments and these comments are used to make the programs user friendly and easy to understand. The good thing about comments is that they are completely ignored by compilers and interpreters. So we can use whatever language we want to write our comments."
   ]
  },
  {
   "cell_type": "markdown",
   "metadata": {},
   "source": [
    "### Whitespaces\n",
    "There are some characters which we use very frequently but they are **invisible** in your program and these characters are spaces, tabs (\\t), new lines(\\n). These characters are called whitespaces.\n",
    "\n",
    "These three important whitespace characters are common in **all** the programming languages and they remain invisible in your text document −\n",
    "\n",
    "To create a new line - `\\n`\n",
    "\n",
    "To create a tab - `\\t`\n",
    "\n",
    "To create a space - `empty space`"
   ]
  },
  {
   "cell_type": "markdown",
   "metadata": {},
   "source": [
    "## Hello World Program in Java"
   ]
  },
  {
   "cell_type": "markdown",
   "metadata": {},
   "source": [
    "[CODE](https://onlinegdb.com/S1H7ctRlO)"
   ]
  },
  {
   "cell_type": "markdown",
   "metadata": {},
   "source": [
    "## Hello World Program in Python"
   ]
  },
  {
   "cell_type": "code",
   "execution_count": 5,
   "metadata": {},
   "outputs": [
    {
     "name": "stdout",
     "output_type": "stream",
     "text": [
      "Hello, World!\n"
     ]
    }
   ],
   "source": [
    "##  print function to write Hello, World!\n",
    "\n",
    "print(\"Hello, World!\")"
   ]
  },
  {
   "cell_type": "markdown",
   "metadata": {},
   "source": [
    "Hope we noted that for **C** and **Java** examples, first we are **compiling** the programs and then **executing** the produced binaries, but in **Python** program, we are **directly executing** it. Because Python is an **interpreted** language and it does not need an intermediate step called compilation.\n",
    "\n",
    "Python does not require a **semicolon (;)** to terminate a statement, rather a new line always means termination of the statement."
   ]
  }
 ],
 "metadata": {
  "kernelspec": {
   "display_name": "Python 3",
   "language": "python",
   "name": "python3"
  },
  "language_info": {
   "codemirror_mode": {
    "name": "ipython",
    "version": 3
   },
   "file_extension": ".py",
   "mimetype": "text/x-python",
   "name": "python",
   "nbconvert_exporter": "python",
   "pygments_lexer": "ipython3",
   "version": "3.8.5"
  }
 },
 "nbformat": 4,
 "nbformat_minor": 4
}
