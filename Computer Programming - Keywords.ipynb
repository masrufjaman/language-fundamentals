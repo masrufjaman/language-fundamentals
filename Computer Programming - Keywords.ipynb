{
 "cells": [
  {
   "cell_type": "markdown",
   "metadata": {},
   "source": [
    "Like int, long, and float, there are many other keywords supported by C programming language which we will use for different purpose. Different programming languages provide different set of reserved keywords, but there is one important & common rule in all the programming languages that we cannot use a reserved keyword to name our variables, which means we cannot name our variable like int or float rather these keywords can only be used to specify a variable data type.\n",
    "\n",
    "If you will try to use any reserved keyword for the purpose of variable name, then you will get a syntax error."
   ]
  },
  {
   "cell_type": "markdown",
   "metadata": {},
   "source": [
    "## C Programming Reserved Keywords\n",
    "Here is a table having almost all the keywords supported by C Programming language −"
   ]
  },
  {
   "cell_type": "markdown",
   "metadata": {},
   "source": [
    "|   keyword   |  keyword  |   keyword   |  keyword  |\n",
    "|:--------:|:------:|:--------:|:--------:|\n",
    "|   auto   |  else  |   long   |  switch  |\n",
    "|   break  |  enum  | register |  typedef |\n",
    "|   case   | extern |  return  |   union  |\n",
    "|   char   |  float |   short  | unsigned |\n",
    "|   const  |   for  |  signed  |   void   |\n",
    "| continue |  goto  |  sizeof  | volatile |\n",
    "|  default |   if   |  static  |   while  |\n",
    "|    do    |   int  |  struct  |  _Packed |\n",
    "|  double  |        |          |          |"
   ]
  },
  {
   "cell_type": "markdown",
   "metadata": {},
   "source": [
    "## Java Programming Reserved Keywords\n",
    "Here is a table having almost all the keywords supported by Java Programming language −"
   ]
  },
  {
   "cell_type": "markdown",
   "metadata": {},
   "source": [
    "|  Keyword |    Keyword   |  Keyword |   Keyword  |\n",
    "|:--------:|:------------:|:--------:|:----------:|\n",
    "| abstract |    assert    |  boolean |    break   |\n",
    "|   byte   |     case     |   catch  |    char    |\n",
    "|   class  |     const    | continue |   default  |\n",
    "|    do    |    double    |   else   |    enum    |\n",
    "|  extends |     final    |  finally |    float   |\n",
    "|    for   |     goto     |    if    | implements |\n",
    "|  import  |  instanceof  |    int   |  interface |\n",
    "|   long   |    native    |    new   |   package  |\n",
    "|  private |   protected  |  public  |   return   |\n",
    "|   short  |    static    | strictfp |    super   |\n",
    "|  switch  | synchronized |   this   |    throw   |\n",
    "|  throws  |   transient  |    try   |    void    |\n",
    "| volatile |     while    |          |            |"
   ]
  },
  {
   "cell_type": "markdown",
   "metadata": {},
   "source": [
    "## Python Programming Reserved Keywords\n",
    "Here is a table having almost all the keywords supported by Python Programming language −"
   ]
  },
  {
   "cell_type": "markdown",
   "metadata": {},
   "source": [
    "|  Keyword | Keyword | Keyword |\n",
    "|:--------:|:-------:|:-------:|\n",
    "|    and   |   exec  |   not   |\n",
    "|  assert  | finally |    or   |\n",
    "|   break  |   for   |   pass  |\n",
    "|   class  |   from  |  print  |\n",
    "| continue |  global |  raise  |\n",
    "|    def   |    if   |  return |\n",
    "|    del   |  import |   try   |\n",
    "|   elif   |    in   |  while  |\n",
    "|   else   |    is   |   with  |\n",
    "|  except  |  lambda |  yield  |"
   ]
  },
  {
   "cell_type": "markdown",
   "metadata": {},
   "source": [
    "Be careful while giving a name to your variable, you should not use any reserved keyword for that programming language."
   ]
  }
 ],
 "metadata": {
  "kernelspec": {
   "display_name": "Python 3",
   "language": "python",
   "name": "python3"
  },
  "language_info": {
   "codemirror_mode": {
    "name": "ipython",
    "version": 3
   },
   "file_extension": ".py",
   "mimetype": "text/x-python",
   "name": "python",
   "nbconvert_exporter": "python",
   "pygments_lexer": "ipython3",
   "version": "3.8.5"
  }
 },
 "nbformat": 4,
 "nbformat_minor": 4
}
