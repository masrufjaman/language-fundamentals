{
 "cells": [
  {
   "cell_type": "markdown",
   "metadata": {},
   "source": [
    "Variables are the names we give to computer memory locations which are used to store values in a computer program."
   ]
  },
  {
   "cell_type": "markdown",
   "metadata": {},
   "source": [
    "For example, assume we want to store two values 100 and 200 in our program and at a later stage, we want to use these two values. Let's see how we will do it. Here are the following three simple steps −\n",
    "- Create variables with appropriate names.\n",
    "- Store our values in those two variables.\n",
    "- Retrieve and use the stored values from the variables."
   ]
  },
  {
   "cell_type": "markdown",
   "metadata": {},
   "source": [
    "## Creating variables\n",
    "Creating variables is also called declaring variables in C programming. Different programming languages have different ways of creating variables inside a program. For example, C programming has the following simple way of creating variables −  \n",
    "[CODE](https://ide.geeksforgeeks.org/bpd0hMGZv3)"
   ]
  },
  {
   "cell_type": "markdown",
   "metadata": {},
   "source": [
    "The above program creates two variables to reserve two memory locations with names a and b. We created these variables using int keyword to specify variable data type which means we want to store integer values in these two variables. Similarly, you can create variables to store long, float, char or any other data type. For example −  \n",
    "[CODE](https://ide.geeksforgeeks.org/X3BQDXt447)"
   ]
  },
  {
   "cell_type": "markdown",
   "metadata": {},
   "source": [
    "We can create variables of similar type by putting them in a single line but separated by comma as follows −  \n",
    "[CODE](https://ide.geeksforgeeks.org/kpwRiCtW2q)"
   ]
  },
  {
   "cell_type": "markdown",
   "metadata": {},
   "source": [
    "Listed below are the key points about variables that we need to keep in mind −\n",
    "- A variable name can hold a single type of value. For example, if variable **a** has been defined **int** type, then it can store only integer.\n",
    "- C programming language requires a variable creation, i.e., declaration before its usage in our program. We cannot use a variable name in our program without creating it, though programming language like Python allows us to use a variable name without creating it.\n",
    "- We can use a variable name only once inside our program. For example, if a variable **a** has been defined to store an integer value, then you cannot define **a** again to store any other type of value.\n",
    "- There are programming languages like Python, PHP, Perl, etc., which do not want to specify data type at the time of creating variables. So we can store integer, float, or long without specifying their data type.\n",
    "- We can give any name to a variable like **age, sex, salary, year1990** or anything else we like to give, but most of the programming languages allow to use only limited characters in their variables names. For now, we will suggest to use only **a....z, A....Z, 0....9** in our variable names and start their names using alphabets only instead of digits.\n",
    "- Almost none of the programming languages allow to start their variable names with a digit, so **1990year** will not be a valid variable name whereas **year1990** or **ye1990ar** are valid variable names."
   ]
  },
  {
   "cell_type": "markdown",
   "metadata": {},
   "source": [
    "Every programming language provides more rules related to variables and we will learn them when we will go in further detail of that programming language."
   ]
  },
  {
   "cell_type": "markdown",
   "metadata": {},
   "source": [
    "## Store Values in Variables\n",
    "We have seen how we created variables in the previous section. Now, let's store some values in those variables −  \n",
    "[CODE](https://ide.geeksforgeeks.org/MaQPTqDzW5)"
   ]
  },
  {
   "cell_type": "markdown",
   "metadata": {},
   "source": [
    "The above program has two additional statements where we are storing 10 in variable **a** and 20 is being stored in variable **b**. Almost all the programming languages have similar way of storing values in variable where we keep variable name in the left hand side of an equal sign = and whatever value we want to store in the variable, we keep that value in the right hand side."
   ]
  },
  {
   "cell_type": "markdown",
   "metadata": {},
   "source": [
    "Now, we have completed two steps, first we created two variables and then we stored required values in those variables. Now variable **a** has value 10 and variable **b** has value 20. In other words we can say, when above program is executed, the memory location named **a** will hold 10 and memory location **b** will hold 20."
   ]
  },
  {
   "cell_type": "markdown",
   "metadata": {},
   "source": [
    "## Access stored values in variables\n",
    "If we do not use the stored values in the variables, then there is no point in creating variables and storing values in them. We know that the above program has two variables a and b and they store the values 10 and 20, respectively. So let's try to print the values stored in these two variables. Following is a C program, which prints the values stored in its variables −  \n",
    "[CODE](https://ide.geeksforgeeks.org/t4WlIiNVjD)"
   ]
  },
  {
   "cell_type": "markdown",
   "metadata": {},
   "source": [
    "You must have seen **printf()** function in the previous chapter where we had used it to print \"Hello, World!\". This time, we are using it to print the values of variables. We are making use of **%d**, which will be replaced with the values of the given variable in printf() statements. We can print both the values using a single printf() statement as follows −  \n",
    "[CODE](https://ide.geeksforgeeks.org/Dz8FS93DEg)"
   ]
  },
  {
   "cell_type": "markdown",
   "metadata": {},
   "source": [
    "If you want to use **float** variable in C programming, then you will have to use **%f** instead of **%d**, and if you want to print a character value, then you will have to use **%c**. Similarly, different data types can be printed using different **%** and characters."
   ]
  }
 ],
 "metadata": {
  "kernelspec": {
   "display_name": "Python 3",
   "language": "python",
   "name": "python3"
  },
  "language_info": {
   "codemirror_mode": {
    "name": "ipython",
    "version": 3
   },
   "file_extension": ".py",
   "mimetype": "text/x-python",
   "name": "python",
   "nbconvert_exporter": "python",
   "pygments_lexer": "ipython3",
   "version": "3.8.5"
  }
 },
 "nbformat": 4,
 "nbformat_minor": 4
}
