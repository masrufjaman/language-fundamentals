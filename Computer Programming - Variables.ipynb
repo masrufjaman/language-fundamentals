{
 "cells": [
  {
   "cell_type": "markdown",
   "metadata": {},
   "source": [
    "Variables are the names we give to computer memory locations which are used to store values in a computer program."
   ]
  },
  {
   "cell_type": "markdown",
   "metadata": {},
   "source": [
    "For example, assume we want to store two values 100 and 200 in our program and at a later stage, we want to use these two values. Let's see how we will do it. Here are the following three simple steps −\n",
    "- Create variables with appropriate names.\n",
    "- Store our values in those two variables.\n",
    "- Retrieve and use the stored values from the variables."
   ]
  },
  {
   "cell_type": "markdown",
   "metadata": {},
   "source": [
    "## Creating variables\n",
    "Creating variables is also called declaring variables in C programming. Different programming languages have different ways of creating variables inside a program. For example, C programming has the following simple way of creating variables −  \n",
    "[CODE](https://ide.geeksforgeeks.org/bpd0hMGZv3)"
   ]
  },
  {
   "cell_type": "markdown",
   "metadata": {},
   "source": [
    "The above program creates two variables to reserve two memory locations with names a and b. We created these variables using int keyword to specify variable data type which means we want to store integer values in these two variables. Similarly, you can create variables to store long, float, char or any other data type. For example −  \n",
    "[CODE](https://ide.geeksforgeeks.org/X3BQDXt447)"
   ]
  },
  {
   "cell_type": "markdown",
   "metadata": {},
   "source": [
    "We can create variables of similar type by putting them in a single line but separated by comma as follows −  \n",
    "[CODE](https://ide.geeksforgeeks.org/kpwRiCtW2q)"
   ]
  },
  {
   "cell_type": "markdown",
   "metadata": {},
   "source": [
    "Listed below are the key points about variables that we need to keep in mind −\n",
    "- A variable name can hold a single type of value. For example, if variable **a** has been defined **int** type, then it can store only integer.\n",
    "- C programming language requires a variable creation, i.e., declaration before its usage in our program. We cannot use a variable name in our program without creating it, though programming language like Python allows us to use a variable name without creating it.\n",
    "- We can use a variable name only once inside our program. For example, if a variable **a** has been defined to store an integer value, then you cannot define **a** again to store any other type of value.\n",
    "- There are programming languages like Python, PHP, Perl, etc., which do not want to specify data type at the time of creating variables. So we can store integer, float, or long without specifying their data type.\n",
    "- We can give any name to a variable like **age, sex, salary, year1990** or anything else we like to give, but most of the programming languages allow to use only limited characters in their variables names. For now, we will suggest to use only **a....z, A....Z, 0....9** in our variable names and start their names using alphabets only instead of digits.\n",
    "- Almost none of the programming languages allow to start their variable names with a digit, so **1990year** will not be a valid variable name whereas **year1990** or **ye1990ar** are valid variable names."
   ]
  },
  {
   "cell_type": "markdown",
   "metadata": {},
   "source": [
    "Every programming language provides more rules related to variables and we will learn them when we will go in further detail of that programming language."
   ]
  }
 ],
 "metadata": {
  "kernelspec": {
   "display_name": "Python 3",
   "language": "python",
   "name": "python3"
  },
  "language_info": {
   "codemirror_mode": {
    "name": "ipython",
    "version": 3
   },
   "file_extension": ".py",
   "mimetype": "text/x-python",
   "name": "python",
   "nbconvert_exporter": "python",
   "pygments_lexer": "ipython3",
   "version": "3.8.5"
  }
 },
 "nbformat": 4,
 "nbformat_minor": 4
}
