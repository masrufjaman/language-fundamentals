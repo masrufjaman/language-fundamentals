{
 "cells": [
  {
   "cell_type": "markdown",
   "metadata": {},
   "source": [
    "## What is Computer Programming?\n",
    "COMPUTER PROGRAMMING is a step by step process of designing and developing various sets of computer programs to accomplish a specific computing outcome."
   ]
  },
  {
   "cell_type": "markdown",
   "metadata": {},
   "source": [
    "### The main types of programming languages are:\n",
    "- Procedural Programming Language.\n",
    "- Functional Programming Language.\n",
    "- Object-oriented Programming Language.\n",
    "- Scripting Programming Language.\n",
    "- Logic Programming Language."
   ]
  },
  {
   "cell_type": "markdown",
   "metadata": {},
   "source": [
    "## Applications of computer programming languages"
   ]
  },
  {
   "cell_type": "markdown",
   "metadata": {},
   "source": [
    "### Python\n",
    "Web and Internet Development, Scientific and Numeric applications, Desktop GUIs, Business applications. It is widely used in AI and Machine Learning space."
   ]
  },
  {
   "cell_type": "markdown",
   "metadata": {},
   "source": [
    "### Java\n",
    "Mostly used for developing Android apps, web apps, and Big data."
   ]
  },
  {
   "cell_type": "markdown",
   "metadata": {},
   "source": [
    "### R\n",
    "Data Science projects, Statistical computing, Machine learning"
   ]
  },
  {
   "cell_type": "markdown",
   "metadata": {},
   "source": [
    "### Javascript\n",
    "JavaScript usage include web/mobile app development, game development, and desktop app development."
   ]
  },
  {
   "cell_type": "markdown",
   "metadata": {},
   "source": [
    "### Swift\n",
    "Swift is a specially designed language which works with Apple's Cocoa and Cocoa Touch frameworks to create all types of iOS apps."
   ]
  },
  {
   "cell_type": "markdown",
   "metadata": {},
   "source": [
    "### C++\n",
    "C++ is widely used in Game Development, Advance Computations, and Graphics Compilers"
   ]
  },
  {
   "cell_type": "markdown",
   "metadata": {},
   "source": [
    "### C#\n",
    "Widely used in Enterprise Cross-Applications Development, Web Applications"
   ]
  },
  {
   "cell_type": "markdown",
   "metadata": {},
   "source": [
    "### PHP\n",
    "Web Development, Content Management Systems, eCommerce Applications"
   ]
  },
  {
   "cell_type": "markdown",
   "metadata": {},
   "source": [
    "### SQL\n",
    "Used in Any Database"
   ]
  },
  {
   "cell_type": "markdown",
   "metadata": {},
   "source": [
    "### GO\n",
    "Console utilities, GUI applications, and web applications"
   ]
  },
  {
   "cell_type": "markdown",
   "metadata": {},
   "source": [
    "## Basic of programming\n",
    "Just like human languages, programming languages also follow grammar called syntax. There are certain basic program code elements which are common for all the programming languages."
   ]
  },
  {
   "cell_type": "markdown",
   "metadata": {},
   "source": [
    "Most important basic elements for programming languages are:\n",
    "- Programming Environment\n",
    "- Data Types\n",
    "- Variables\n",
    "- Keywords\n",
    "- Logical and Arithmetical Operators\n",
    "- If else conditions\n",
    "- Loops\n",
    "- Numbers, Characters and Arrays\n",
    "- Functions\n",
    "- Input and Output Operations"
   ]
  }
 ],
 "metadata": {
  "kernelspec": {
   "display_name": "Python 3",
   "language": "python",
   "name": "python3"
  },
  "language_info": {
   "codemirror_mode": {
    "name": "ipython",
    "version": 3
   },
   "file_extension": ".py",
   "mimetype": "text/x-python",
   "name": "python",
   "nbconvert_exporter": "python",
   "pygments_lexer": "ipython3",
   "version": "3.8.5"
  }
 },
 "nbformat": 4,
 "nbformat_minor": 4
}
